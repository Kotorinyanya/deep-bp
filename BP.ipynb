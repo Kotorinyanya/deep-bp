{
 "cells": [
  {
   "cell_type": "code",
   "execution_count": 1,
   "metadata": {},
   "outputs": [],
   "source": [
    "%config InlineBackend.figure_format ='retina'\n",
    "from IPython.core.interactiveshell import InteractiveShell\n",
    "InteractiveShell.ast_node_interactivity = \"all\""
   ]
  },
  {
   "cell_type": "code",
   "execution_count": 2,
   "metadata": {},
   "outputs": [],
   "source": [
    "import torch\n",
    "import torch_geometric\n",
    "import networkx as nx\n",
    "%matplotlib inline\n",
    "from matplotlib import pyplot as plt\n",
    "import matplotlib\n",
    "import numpy as np\n",
    "from scipy import sparse\n",
    "from random import shuffle\n",
    "import itertools\n",
    "import multiprocessing"
   ]
  },
  {
   "cell_type": "code",
   "execution_count": 3,
   "metadata": {},
   "outputs": [],
   "source": [
    "class BeliefPropagation():\n",
    "    \n",
    "    def __init__():\n",
    "        pass"
   ]
  },
  {
   "cell_type": "code",
   "execution_count": 4,
   "metadata": {},
   "outputs": [],
   "source": [
    "beta = 1.0\n",
    "sizes = [500, 500]\n",
    "Q = len(sizes)\n",
    "P = [[0.005, 0.0005], [0.0005, 0.005]]\n",
    "G = nx.stochastic_block_model(sizes, P)\n",
    "N = G.number_of_nodes()"
   ]
  },
  {
   "cell_type": "code",
   "execution_count": 5,
   "metadata": {},
   "outputs": [
    {
     "data": {
      "text/plain": [
       "1307"
      ]
     },
     "execution_count": 5,
     "metadata": {},
     "output_type": "execute_result"
    }
   ],
   "source": [
    "G.number_of_edges()"
   ]
  },
  {
   "cell_type": "code",
   "execution_count": 6,
   "metadata": {},
   "outputs": [
    {
     "data": {
      "text/plain": [
       "{'block': 0}"
      ]
     },
     "execution_count": 6,
     "metadata": {},
     "output_type": "execute_result"
    }
   ],
   "source": [
    "G.node[0]"
   ]
  },
  {
   "cell_type": "code",
   "execution_count": 7,
   "metadata": {},
   "outputs": [
    {
     "data": {
      "text/plain": [
       "1000"
      ]
     },
     "execution_count": 7,
     "metadata": {},
     "output_type": "execute_result"
    }
   ],
   "source": [
    "G.number_of_nodes()"
   ]
  },
  {
   "cell_type": "markdown",
   "metadata": {},
   "source": [
    "# Initialize beta (inverse temperature)\n",
    "TODO: extend to weighted version\n",
    "$$\n",
    "\\beta^{*}(q, c)=\\log \\left(\\frac{q}{\\sqrt{c}-1}+1\\right)\n",
    "$$"
   ]
  },
  {
   "cell_type": "markdown",
   "metadata": {},
   "source": [
    "## weighted version by Shi Chen et al.\n",
    "$$\n",
    "\\hat{c}=\\sum_{d=1}^{\\infty} \\frac{d p(d)}{c}(d-1)=\\frac{\\left\\langle d^{2}\\right\\rangle}{c}-1\n",
    "$$\n",
    "The **spin-glass transition temperature** can be obtained by solving the following equations.\n",
    "$$\n",
    "\\left\\langle\\left(\\frac{e^{\\beta^{*} \\omega_{i j}}-1}{e^{\\beta^{*} \\omega_{i j}}+q-1}\\right)^{2}\\right\\rangle_{\\omega_{i j}} \\hat{c}=1\n",
    "$$"
   ]
  },
  {
   "cell_type": "code",
   "execution_count": 8,
   "metadata": {},
   "outputs": [
    {
     "name": "stdout",
     "output_type": "stream",
     "text": [
      "2.614 tensor([1.4452], requires_grad=True)\n"
     ]
    }
   ],
   "source": [
    "mean_degree = np.asarray(G.degree())[:, 1].mean()\n",
    "beta_ast = np.log(Q / (np.sqrt(mean_degree) - 1) + 1)\n",
    "beta = torch.tensor([beta_ast], dtype=torch.float, requires_grad=True)\n",
    "\n",
    "print(mean_degree, beta)"
   ]
  },
  {
   "cell_type": "markdown",
   "metadata": {},
   "source": [
    "# Initialize psi and message_map"
   ]
  },
  {
   "cell_type": "code",
   "execution_count": 9,
   "metadata": {},
   "outputs": [
    {
     "name": "stderr",
     "output_type": "stream",
     "text": [
      "/home/huze/.conda/envs/torch_geometric/lib/python3.7/site-packages/ipykernel_launcher.py:4: UserWarning: To copy construct from a tensor, it is recommended to use sourceTensor.clone().detach() or sourceTensor.clone().detach().requires_grad_(True), rather than torch.tensor(sourceTensor).\n",
      "  after removing the cwd from sys.path.\n"
     ]
    }
   ],
   "source": [
    "# initialize by ramdom messages\n",
    "marginal_psi = torch.rand(N, Q) # the marginal probability of node i (in N) at block q (in Q), normalized\n",
    "marginal_psi = marginal_psi / marginal_psi.sum(1).reshape(-1, 1)\n",
    "marginal_psi = torch.tensor(marginal_psi, dtype=torch.float)\n",
    "# message_map = np.zeros((N, N, Q)) # TODO: reduce memory concumption\n",
    "message_map = []\n",
    "for i in range(N):\n",
    "    message_map_at_i = torch.rand(len(list(G.neighbors(i))), Q)\n",
    "    message_map_at_i = message_map_at_i / message_map_at_i.sum(1).reshape(-1, 1)\n",
    "    message_map.append(message_map_at_i)"
   ]
  },
  {
   "cell_type": "code",
   "execution_count": 10,
   "metadata": {},
   "outputs": [
    {
     "data": {
      "text/plain": [
       "tensor([[0.1549, 0.8451],\n",
       "        [0.6262, 0.3738],\n",
       "        [0.5680, 0.4320],\n",
       "        ...,\n",
       "        [0.0165, 0.9835],\n",
       "        [0.5599, 0.4401],\n",
       "        [0.6956, 0.3044]])"
      ]
     },
     "execution_count": 10,
     "metadata": {},
     "output_type": "execute_result"
    }
   ],
   "source": [
    "marginal_psi"
   ]
  },
  {
   "cell_type": "code",
   "execution_count": 11,
   "metadata": {},
   "outputs": [
    {
     "data": {
      "text/plain": [
       "tensor([[0.3843, 0.6157],\n",
       "        [0.5279, 0.4721]])"
      ]
     },
     "execution_count": 11,
     "metadata": {},
     "output_type": "execute_result"
    }
   ],
   "source": [
    "message_map[0]"
   ]
  },
  {
   "cell_type": "markdown",
   "metadata": {},
   "source": [
    "# Initialize h (external field)\n",
    "non-weighted:\n",
    "$$\n",
    "\\theta_{t}=\\sum_{j=1}^{n} d_{j} \\psi_{t}^{j}\n",
    "$$\n",
    "weighted:\n",
    "$$\n",
    "h(t)=-\\beta \\overline{\\omega} \\sum_{i} \\psi_{t}^{i}\n",
    "$$"
   ]
  },
  {
   "cell_type": "code",
   "execution_count": 12,
   "metadata": {},
   "outputs": [],
   "source": [
    "W = nx.to_numpy_matrix(G)"
   ]
  },
  {
   "cell_type": "code",
   "execution_count": 13,
   "metadata": {},
   "outputs": [
    {
     "data": {
      "text/plain": [
       "2.614"
      ]
     },
     "execution_count": 13,
     "metadata": {},
     "output_type": "execute_result"
    }
   ],
   "source": [
    "W.mean() * N"
   ]
  },
  {
   "cell_type": "code",
   "execution_count": 13,
   "metadata": {},
   "outputs": [],
   "source": [
    "h = np.empty(Q)\n",
    "for q in range(Q):\n",
    "    h_q = -beta * W.mean() * marginal_psi[:, q].sum()\n",
    "    h[q] = h_q\n",
    "h = torch.tensor(h, dtype=torch.float)"
   ]
  },
  {
   "cell_type": "code",
   "execution_count": 14,
   "metadata": {},
   "outputs": [
    {
     "data": {
      "text/plain": [
       "tensor([-1.9162, -1.8819])"
      ]
     },
     "execution_count": 14,
     "metadata": {},
     "output_type": "execute_result"
    }
   ],
   "source": [
    "h"
   ]
  },
  {
   "cell_type": "markdown",
   "metadata": {},
   "source": [
    "# BP converge\n",
    "$$\n",
    "\\psi_{t_{i}}^{i \\rightarrow k} \\approx \\frac{e^{h\\left(t_{i}\\right)}}{Z_{i \\rightarrow k}} \\prod_{j \\in \\partial i | k}\\left(1+\\psi_{t_{i}}^{j \\rightarrow i}\\left(e^{\\beta \\omega_{i j}}-1\\right)\\right)\n",
    "$$\n",
    "$$\n",
    "h(t)=-\\beta \\overline{\\omega} \\sum_{i} \\psi_{t}^{i}\n",
    "$$\n",
    "$$\n",
    "\\psi_{t_{i}}^{i}=\\frac{e^{h\\left(t_{i}\\right)}}{Z_{i}} \\prod_{j \\in \\partial i}\\left(1+\\psi_{t_{i}}^{j \\rightarrow i}\\left(e^{\\beta \\omega_{i j}}-1\\right)\\right)\n",
    "$$"
   ]
  },
  {
   "cell_type": "code",
   "execution_count": 15,
   "metadata": {},
   "outputs": [],
   "source": [
    "(i, j) = list(G.edges())[0]"
   ]
  },
  {
   "cell_type": "code",
   "execution_count": 16,
   "metadata": {},
   "outputs": [
    {
     "data": {
      "text/plain": [
       "(0, 292)"
      ]
     },
     "execution_count": 16,
     "metadata": {},
     "output_type": "execute_result"
    }
   ],
   "source": [
    "i, j"
   ]
  },
  {
   "cell_type": "code",
   "execution_count": 17,
   "metadata": {},
   "outputs": [],
   "source": [
    "def update_message_i_to_j(i, j, learning_rate):\n",
    "    message_i_to_j = torch.zeros(Q)\n",
    "    i_to_j = list(G.neighbors(i)).index(j)\n",
    "    # all neighbors except j\n",
    "    neighbors = list(G.neighbors(i))\n",
    "    neighbors.remove(j)\n",
    "    # sum all message to i\n",
    "    \n",
    "    for q in range(Q):\n",
    "        this_value = 1.0\n",
    "        for k in neighbors:\n",
    "            i_to_k = list(G.neighbors(i)).index(k)\n",
    "            k_to_i = list(G.neighbors(k)).index(i)\n",
    "#             print(i, i_to_k, k, k_to_i)\n",
    "            this_value *= (1 + message_map[k][k_to_i][q].clone() * \n",
    "                           (torch.exp(beta * W[i, k]) - 1))\n",
    "        this_value *= torch.exp(h[q])\n",
    "        message_i_to_j[q] = this_value    \n",
    "    message_i_to_j = message_i_to_j.clone() / message_i_to_j.clone().sum()\n",
    "    \n",
    "    diff = torch.abs(message_i_to_j.clone() - message_map[i][i_to_j].clone()).sum()\n",
    "    print(\"message_i_to_j: \", i, j, message_i_to_j)\n",
    "    return diff, message_i_to_j"
   ]
  },
  {
   "cell_type": "code",
   "execution_count": 18,
   "metadata": {},
   "outputs": [
    {
     "name": "stdout",
     "output_type": "stream",
     "text": [
      "message_i_to_j:  0 292 tensor([0.7812, 0.2188], grad_fn=<DivBackward0>)\n"
     ]
    },
    {
     "data": {
      "text/plain": [
       "(tensor(1.0133, grad_fn=<SumBackward0>),\n",
       " tensor([0.7812, 0.2188], grad_fn=<DivBackward0>))"
      ]
     },
     "execution_count": 18,
     "metadata": {},
     "output_type": "execute_result"
    }
   ],
   "source": [
    "update_message_i_to_j(i, j, 0.1)"
   ]
  },
  {
   "cell_type": "code",
   "execution_count": 19,
   "metadata": {},
   "outputs": [],
   "source": [
    "def update_marginal_psi(i):\n",
    "    marginal_psi_i = torch.zeros(Q)\n",
    "    neighbors = list(G.neighbors(i))\n",
    "    for q in range(Q):\n",
    "        this_value = 1.0\n",
    "        for j in neighbors:\n",
    "            j_to_i = list(G.neighbors(j)).index(i)\n",
    "            this_value *= (1 + message_map[j][j_to_i][q].clone() * \n",
    "                           (torch.exp(beta * W[i, j]) - 1))\n",
    "        this_value *= torch.exp(h[q])\n",
    "        marginal_psi_i[q] = this_value\n",
    "    marginal_psi_i = marginal_psi_i.clone() / marginal_psi_i.clone().clone().sum()\n",
    "    print(\"marginal_psi_i:\", i, marginal_psi_i)\n",
    "    return marginal_psi_i"
   ]
  },
  {
   "cell_type": "code",
   "execution_count": 20,
   "metadata": {},
   "outputs": [
    {
     "name": "stdout",
     "output_type": "stream",
     "text": [
      "marginal_psi_i: 292 tensor([0.2132, 0.7868], grad_fn=<DivBackward0>)\n"
     ]
    },
    {
     "data": {
      "text/plain": [
       "tensor([0.2132, 0.7868], grad_fn=<DivBackward0>)"
      ]
     },
     "execution_count": 20,
     "metadata": {},
     "output_type": "execute_result"
    }
   ],
   "source": [
    "update_marginal_psi(j)"
   ]
  },
  {
   "cell_type": "code",
   "execution_count": 21,
   "metadata": {},
   "outputs": [],
   "source": [
    "def bp_iter_step(i, j, learning_rate, h):\n",
    "    \n",
    "    print(\"bp_iter_step:\", i, j)\n",
    "    \n",
    "    diff, message_i_to_j = update_message_i_to_j(i, j, learning_rate)\n",
    "    marginal_psi_i = update_marginal_psi(i)\n",
    "    \n",
    "    i_to_j = list(G.neighbors(i)).index(j)\n",
    "    \n",
    "    message_map[i][i_to_j] = learning_rate * message_i_to_j.clone() + \\\n",
    "                        (1 - learning_rate) * message_map[i][i_to_j].clone()\n",
    "    h -= -beta * W.mean() * marginal_psi[j].clone()\n",
    "    marginal_psi[j] = marginal_psi_i.clone()\n",
    "    h += -beta * W.mean() * marginal_psi[j].clone()\n",
    "    \n",
    "    return diff"
   ]
  },
  {
   "cell_type": "code",
   "execution_count": 22,
   "metadata": {},
   "outputs": [],
   "source": [
    "diff = 0"
   ]
  },
  {
   "cell_type": "code",
   "execution_count": 17,
   "metadata": {},
   "outputs": [
    {
     "data": {
      "text/plain": [
       "tensor(22)"
      ]
     },
     "execution_count": 17,
     "metadata": {},
     "output_type": "execute_result"
    }
   ],
   "source": [
    "torch.max(torch.tensor([10, 22]))"
   ]
  },
  {
   "cell_type": "code",
   "execution_count": 23,
   "metadata": {},
   "outputs": [
    {
     "name": "stdout",
     "output_type": "stream",
     "text": [
      "bp_iter_step: 0 292\n",
      "message_i_to_j:  0 292 tensor([0.7812, 0.2188], grad_fn=<DivBackward0>)\n",
      "marginal_psi_i: 0 tensor([0.7143, 0.2857], grad_fn=<DivBackward0>)\n"
     ]
    }
   ],
   "source": [
    "diff += bp_iter_step(i, j, 0.1, h)"
   ]
  },
  {
   "cell_type": "code",
   "execution_count": 24,
   "metadata": {},
   "outputs": [],
   "source": [
    "diff.backward(retain_graph=True)"
   ]
  },
  {
   "cell_type": "code",
   "execution_count": 25,
   "metadata": {},
   "outputs": [
    {
     "name": "stdout",
     "output_type": "stream",
     "text": [
      "bp_iter_step: 292 0\n",
      "message_i_to_j:  292 0 tensor([0.3165, 0.6835], grad_fn=<DivBackward0>)\n",
      "marginal_psi_i: 292 tensor([0.2344, 0.7656], grad_fn=<DivBackward0>)\n"
     ]
    }
   ],
   "source": [
    "diff += bp_iter_step(j, i, 0.1, h)"
   ]
  },
  {
   "cell_type": "code",
   "execution_count": 26,
   "metadata": {},
   "outputs": [],
   "source": [
    "diff.backward(retain_graph=True)"
   ]
  },
  {
   "cell_type": "code",
   "execution_count": 27,
   "metadata": {},
   "outputs": [
    {
     "data": {
      "text/plain": [
       "tensor([0.8912])"
      ]
     },
     "execution_count": 27,
     "metadata": {},
     "output_type": "execute_result"
    }
   ],
   "source": [
    "beta.grad"
   ]
  },
  {
   "cell_type": "code",
   "execution_count": 28,
   "metadata": {},
   "outputs": [
    {
     "data": {
      "text/plain": [
       "tensor(1.0783, grad_fn=<AddBackward0>)"
      ]
     },
     "execution_count": 28,
     "metadata": {},
     "output_type": "execute_result"
    }
   ],
   "source": [
    "diff"
   ]
  },
  {
   "cell_type": "code",
   "execution_count": 38,
   "metadata": {},
   "outputs": [],
   "source": [
    "_, assignment = torch.max(marginal_psi, 1)"
   ]
  },
  {
   "cell_type": "code",
   "execution_count": 41,
   "metadata": {},
   "outputs": [
    {
     "data": {
      "text/plain": [
       "tensor(1)"
      ]
     },
     "execution_count": 41,
     "metadata": {},
     "output_type": "execute_result"
    }
   ],
   "source": [
    "assignment[2]"
   ]
  },
  {
   "cell_type": "code",
   "execution_count": 32,
   "metadata": {},
   "outputs": [
    {
     "data": {
      "text/plain": [
       "torch.Size([1000])"
      ]
     },
     "execution_count": 32,
     "metadata": {},
     "output_type": "execute_result"
    }
   ],
   "source": [
    "indices.shape"
   ]
  },
  {
   "cell_type": "code",
   "execution_count": null,
   "metadata": {},
   "outputs": [],
   "source": [
    "max_num_iter = 5\n",
    "bp_conf = 0.1\n",
    "learning_rate = 0.5\n",
    "\n",
    "for num_iter in range(max_num_iter):\n",
    "    diff = 0\n",
    "    job_list = list(G.edges())[:]\n",
    "    shuffle(job_list)\n",
    "    for i, j in job_list:\n",
    "        diff += bp_iter_step(i, j, learning_rate, h)\n",
    "#         diff = update_message_i_to_j(i, j, learning_rate)\n",
    "#         max_diff = diff if diff > max_diff else max_diff\n",
    "#         if max_diff < bp_conf:\n",
    "#             return num_iter\n",
    "    if diff < bp_conf:\n",
    "        break"
   ]
  },
  {
   "cell_type": "code",
   "execution_count": 34,
   "metadata": {},
   "outputs": [
    {
     "name": "stdout",
     "output_type": "stream",
     "text": [
      "43.6 s ± 1.74 s per loop (mean ± std. dev. of 7 runs, 1 loop each)\n"
     ]
    }
   ],
   "source": [
    "%%timeit\n",
    "marginal_psi.sum().backward(retain_graph=True)"
   ]
  },
  {
   "cell_type": "code",
   "execution_count": 31,
   "metadata": {},
   "outputs": [
    {
     "data": {
      "text/plain": [
       "tensor([0.8912])"
      ]
     },
     "execution_count": 31,
     "metadata": {},
     "output_type": "execute_result"
    }
   ],
   "source": [
    "beta.grad"
   ]
  },
  {
   "cell_type": "markdown",
   "metadata": {},
   "source": [
    "$$\n",
    "\\mathcal{L}_{\\mathrm{reg}}(\\mathbf{S})=\\sum_{i=1}^{N} \\sum_{j=1}^{N} a_{i j} \\cdot\\left\\|\\mathbf{s}_{i}-\\mathbf{s}_{j}\\right\\|^{2}=\\operatorname{tr}\\left(\\mathbf{S} \\mathbf{L} \\mathbf{S}^{\\top}\\right)\n",
    "$$"
   ]
  },
  {
   "cell_type": "code",
   "execution_count": 45,
   "metadata": {},
   "outputs": [
    {
     "data": {
      "text/plain": [
       "tensor(0.4856)"
      ]
     },
     "execution_count": 45,
     "metadata": {},
     "output_type": "execute_result"
    }
   ],
   "source": [
    "torch.pow((marginal_psi[0] - marginal_psi[1]), 2).sum()"
   ]
  },
  {
   "cell_type": "code",
   "execution_count": null,
   "metadata": {},
   "outputs": [],
   "source": []
  }
 ],
 "metadata": {
  "kernelspec": {
   "display_name": "Python 3",
   "language": "python",
   "name": "python3"
  },
  "language_info": {
   "codemirror_mode": {
    "name": "ipython",
    "version": 3
   },
   "file_extension": ".py",
   "mimetype": "text/x-python",
   "name": "python",
   "nbconvert_exporter": "python",
   "pygments_lexer": "ipython3",
   "version": "3.7.2"
  },
  "varInspector": {
   "cols": {
    "lenName": 16,
    "lenType": 16,
    "lenVar": 40
   },
   "kernels_config": {
    "python": {
     "delete_cmd_postfix": "",
     "delete_cmd_prefix": "del ",
     "library": "var_list.py",
     "varRefreshCmd": "print(var_dic_list())"
    },
    "r": {
     "delete_cmd_postfix": ") ",
     "delete_cmd_prefix": "rm(",
     "library": "var_list.r",
     "varRefreshCmd": "cat(var_dic_list()) "
    }
   },
   "oldHeight": 122,
   "position": {
    "height": "238px",
    "left": "681px",
    "right": "20px",
    "top": "210px",
    "width": "339px"
   },
   "types_to_exclude": [
    "module",
    "function",
    "builtin_function_or_method",
    "instance",
    "_Feature"
   ],
   "varInspector_section_display": "block",
   "window_display": false
  }
 },
 "nbformat": 4,
 "nbformat_minor": 2
}
